{
 "cells": [
  {
   "cell_type": "code",
   "execution_count": 11,
   "id": "96942c24-421a-46a3-a34a-98d3fef88a8b",
   "metadata": {
    "tags": []
   },
   "outputs": [],
   "source": [
    "import pandas as pd\n",
    "\n",
    "# Read CSV files without header \n",
    "translation_df = pd.read_csv('translation.csv', header=None, names=['translation', 'word'])\n",
    "synonym_df = pd.read_csv('synonym.csv', header=None, names=['word', 'synonym'])\n",
    "pos_df = pd.read_csv('pos.csv', header=None, names=['word', 'pos'])\n",
    "category_df = pd.read_csv('category.csv', header=None, names=['word', 'category'])\n",
    "\n",
    "# Create a list of DataFrames\n",
    "dfs = [translation_df, synonym_df, pos_df, category_df]\n",
    "\n",
    "# Initialize an empty dictionary\n",
    "words = {}\n",
    "\n",
    "# Iterate through each dataframe\n",
    "for df in dfs:\n",
    "    for index, row in df.iterrows():\n",
    "        word = row['word']\n",
    "        if word not in words:\n",
    "            words[word] = {\n",
    "                'translation': [],\n",
    "                'synonym': [],\n",
    "                'pos': [],\n",
    "                'category': []\n",
    "            }\n",
    "        \n",
    "        # Check if 'pos' column exists in the dataframe\n",
    "        if 'pos' in df.columns and pd.notna(row['pos']):\n",
    "            if isinstance(row['pos'], list):\n",
    "                words[word]['pos'].extend(row['pos'])\n",
    "            else:\n",
    "                words[word]['pos'].append(row['pos'])\n",
    "        \n",
    "        if 'translation' in df.columns and pd.notna(row['translation']):\n",
    "            if isinstance(row['translation'], list):\n",
    "                words[word]['translation'].extend(row['translation'])\n",
    "            else:\n",
    "                words[word]['translation'].append(row['translation'])\n",
    "                \n",
    "        if 'synonym' in df.columns and pd.notna(row['synonym']):\n",
    "            if isinstance(row['synonym'], list):\n",
    "                words[word]['synonym'].extend(row['pos'])\n",
    "            else:\n",
    "                words[word]['pos'].append(row['pos'])\n",
    "                \n",
    "                \n",
    "                \n",
    "        if 'pos' in df.columns and pd.notna(row['pos']):\n",
    "            if isinstance(row['pos'], list):\n",
    "                words[word]['pos'].extend(row['pos'])\n",
    "            else:\n",
    "                words[word]['pos'].append(row['pos'])\n",
    "        \n",
    "        \n",
    "\n",
    "# Convert the dictionary to a DataFrame\n",
    "words_df = pd.DataFrame(list(words.items()), columns=['word', 'data'])\n",
    "\n",
    "# Save the result to a new CSV file\n",
    "words_df.to_csv('output.csv', index=False)\n",
    "\n",
    "# Convert the dictionary to JSON and save to a file\n",
    "with open('output.json', 'w') as json_file:\n",
    "    json.dump(words, json_file)\n"
   ]
  },
  {
   "cell_type": "code",
   "execution_count": null,
   "id": "648f905a-c968-46e0-9bb1-ed6fb6b49f43",
   "metadata": {},
   "outputs": [],
   "source": []
  }
 ],
 "metadata": {
  "kernelspec": {
   "display_name": "Python 3 (ipykernel)",
   "language": "python",
   "name": "python3"
  },
  "language_info": {
   "codemirror_mode": {
    "name": "ipython",
    "version": 3
   },
   "file_extension": ".py",
   "mimetype": "text/x-python",
   "name": "python",
   "nbconvert_exporter": "python",
   "pygments_lexer": "ipython3",
   "version": "3.11.4"
  }
 },
 "nbformat": 4,
 "nbformat_minor": 5
}
